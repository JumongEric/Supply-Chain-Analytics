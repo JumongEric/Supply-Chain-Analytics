{
  "nbformat": 4,
  "nbformat_minor": 0,
  "metadata": {
    "colab": {
      "provenance": []
    },
    "kernelspec": {
      "name": "python3",
      "display_name": "Python 3"
    },
    "language_info": {
      "name": "python"
    }
  },
  "cells": [
    {
      "cell_type": "markdown",
      "source": [
        "The model aims to calculate the maximum profit we can get out of the available quantity, and price, considering the available constraints. It is very often used in supply chain analytics as well as management, where different warehouses might have the demand that should be met, taking into consideration the cost of transportation, the production capacity of the factory, etc."
      ],
      "metadata": {
        "id": "ge9aPsq35OUy"
      }
    },
    {
      "cell_type": "code",
      "execution_count": null,
      "metadata": {
        "id": "yNWOPygNovjr"
      },
      "outputs": [],
      "source": [
        "pip install scx>=1.0.7"
      ]
    },
    {
      "cell_type": "code",
      "source": [
        "from scx.optimize import Model"
      ],
      "metadata": {
        "id": "ArcCe7EZqL5d"
      },
      "execution_count": null,
      "outputs": []
    },
    {
      "cell_type": "markdown",
      "source": [
        "We start by importing dependencies and library in scx. Then we represent data or given information in dictionaries."
      ],
      "metadata": {
        "id": "KN9L0W2FtqJS"
      }
    },
    {
      "cell_type": "code",
      "source": [
        "transport = [{ \"origin_name\": \"A1\", \"destination_name\": \"R1\", \"distance\": 105, \"cost_per_mile\": 0.12,\n",
        "              },\n",
        "              { \"origin_name\": \"A1\", \"destination_name\": \"R2\", \"distance\": 256, \"cost_per_mile\": 0.12,\n",
        "               },\n",
        "              {\"origin_name\":\"A1\", \"destination_name\": \"R3\", \"distance\": 86, \"cost_per_mile\": 0.12,\n",
        "               },\n",
        "             {\"origin_name\": \"A2\", \"destination_name\": \"R1\", \"distance\": 240, \"cost_per_mile\": 0.12,\n",
        "              },\n",
        "             {\"origin_name\": \"A2\", \"destination_name\": \"R2\", \"distance\": 136, \"cost_per_mile\": 0.12,\n",
        "              },\n",
        "             {\"origin_name\": \"A2\", \"destination_name\": \"R3\", \"distance\": 198, \"cost_per_mile\": 0.12,\n",
        "              },\n",
        "             ]\n",
        "demand= [{\"name\": \"R1\", \"demand\": 2500},\n",
        "         {\"name\": \"R2\", \"demand\": 4350},\n",
        "         {\"name\": \"R3\",\"demand\": 3296}]\n",
        "\n",
        "supply= [{ \"name\": \"A1\", \"supply\": 13000},\n",
        "         { \"name\": \"A2\", \"supply\": 3500}]"
      ],
      "metadata": {
        "id": "YDFSKv4MqQ9V"
      },
      "execution_count": null,
      "outputs": []
    },
    {
      "cell_type": "markdown",
      "source": [
        "Then we create decision variables for each item in the transport"
      ],
      "metadata": {
        "id": "wY-0It0yuVKw"
      }
    },
    {
      "cell_type": "code",
      "source": [
        "for i in transport:\n",
        "  i['amt']= Model.variable(name=f\"{i['origin_name']}__{i['destination_name']}__amt\", lowBound=0)\n",
        "  i['cost']=i['distance']* i['cost_per_mile']\n",
        "  # Fro the sencond question we gon try to maximize profit where the revenue is given by 45 times each unit\n",
        "  i['profit']= 45- i['cost']\n"
      ],
      "metadata": {
        "id": "gXAw9NyAucRY"
      },
      "execution_count": null,
      "outputs": []
    },
    {
      "cell_type": "code",
      "source": [
        "print(transport[0])"
      ],
      "metadata": {
        "colab": {
          "base_uri": "https://localhost:8080/"
        },
        "id": "G9nFDXVQzfD1",
        "outputId": "ca0e6978-31dc-46bc-e8b5-1b793ff5533b"
      },
      "execution_count": null,
      "outputs": [
        {
          "output_type": "stream",
          "name": "stdout",
          "text": [
            "{'origin_name': 'A1', 'destination_name': 'R1', 'distance': 105, 'cost_per_mile': 0.12, 'amt': A1__R1__amt, 'cost': 12.6}\n"
          ]
        }
      ]
    },
    {
      "cell_type": "markdown",
      "source": [
        "Then we initialize the model by adding a name and specifying whether we are minimizing or maximizing in optimization.\n",
        "\n",
        "1. in Part one of this example we minimized the cost of transportation and the constraints here of demand was supposed to be <= to ensure that we produce more than what we are expected to deliver.\n",
        "\n",
        "2. In part two of this example we are expected to maximize the profit given by the revenue minus the transportation cost. The key here in constraints was to ensure that we aim to meet the expected demand only >= to minimize wastages in case of products are not buyed.\n",
        "3. In part 3, we dislgard the second action and we get back on the first question which is to minimize the transportation cost with additional constraints in supply."
      ],
      "metadata": {
        "id": "FHqZoexG2HAh"
      }
    },
    {
      "cell_type": "code",
      "source": [
        "my_model= Model(name=\"Blinky24\", sense= \"minimize\")\n",
        "#my_model= Model(name=\"Blink23\", sense=\"maximize\")\n",
        "\n",
        "# Adding objective function\n",
        "my_model.add_objective(\n",
        "    fn=Model.sum([i['amt']* i['cost'] for i in transport]))\n",
        "    #fn=Model.sum([i['amt']* i['profit'] for i in transport]))\n",
        "\n",
        "# Adding constraints\n",
        "# 1. Demand constraints\n",
        "for d in demand:\n",
        "  my_model.add_constraint(name=f\"{d['name']}__demand\",\n",
        "                          fn=Model.sum([i['amt'] for i in transport if i['destination_name']== d['name']]) >= d[ 'demand'])\n",
        "# 2. Supply constraints\n",
        "for s in supply:\n",
        "  my_model.add_constraint(name= f\"{ s['name']}__supply\",\n",
        "                          fn=Model.sum([i['amt'] for i in transport if i['origin_name']== s['name']]) <= s['supply'])\n",
        "\n",
        "\n",
        "  # Solve model\n",
        "my_model.solve()"
      ],
      "metadata": {
        "id": "V_J8NjlK2UP3"
      },
      "execution_count": null,
      "outputs": []
    },
    {
      "cell_type": "code",
      "source": [
        "my_model.show_formulation()"
      ],
      "metadata": {
        "colab": {
          "base_uri": "https://localhost:8080/"
        },
        "id": "fX-qfggD51M6",
        "outputId": "4c764f53-74d4-4361-ea63-b7ad0ca85a7a"
      },
      "execution_count": null,
      "outputs": [
        {
          "output_type": "stream",
          "name": "stdout",
          "text": [
            "Blinky24:\n",
            "MINIMIZE\n",
            "12.6*A1__R1__amt + 30.72*A1__R2__amt + 10.32*A1__R3__amt + 28.799999999999997*A2__R1__amt + 16.32*A2__R2__amt + 23.759999999999998*A2__R3__amt + 0.0\n",
            "SUBJECT TO\n",
            "R1__demand: A1__R1__amt + A2__R1__amt >= 2500\n",
            "\n",
            "R2__demand: A1__R2__amt + A2__R2__amt >= 4350\n",
            "\n",
            "R3__demand: A1__R3__amt + A2__R3__amt >= 3296\n",
            "\n",
            "A1__supply: A1__R1__amt + A1__R2__amt + A1__R3__amt <= 13000\n",
            "\n",
            "A2__supply: A2__R1__amt + A2__R2__amt + A2__R3__amt <= 3500\n",
            "\n",
            "VARIABLES\n",
            "A1__R1__amt Continuous\n",
            "A1__R2__amt Continuous\n",
            "A1__R3__amt Continuous\n",
            "A2__R1__amt Continuous\n",
            "A2__R2__amt Continuous\n",
            "A2__R3__amt Continuous\n",
            "\n"
          ]
        }
      ]
    },
    {
      "cell_type": "markdown",
      "source": [
        "Outputs"
      ],
      "metadata": {
        "id": "LxZtPhWa6OH_"
      }
    },
    {
      "cell_type": "code",
      "source": [
        "my_model.show_outputs()"
      ],
      "metadata": {
        "colab": {
          "base_uri": "https://localhost:8080/"
        },
        "id": "7O3Xd1Ga6QcH",
        "outputId": "1729c9aa-41b0-44b1-af9b-1bf173e9fe0a"
      },
      "execution_count": null,
      "outputs": [
        {
          "output_type": "stream",
          "name": "stdout",
          "text": [
            "{'objective': 148746.72,\n",
            " 'status': 'Optimal',\n",
            " 'variables': {'A1__R1__amt': 2500.0,\n",
            "               'A1__R2__amt': 850.0,\n",
            "               'A1__R3__amt': 3296.0,\n",
            "               'A2__R1__amt': 0.0,\n",
            "               'A2__R2__amt': 3500.0,\n",
            "               'A2__R3__amt': 0.0}}\n"
          ]
        }
      ]
    },
    {
      "cell_type": "markdown",
      "source": [
        "Thus, with the given demand, supply, transportation cost,  and distances to different destinations. The maximum profit will be **148746.72.**"
      ],
      "metadata": {
        "id": "fKzjUNDD6b65"
      }
    }
  ]
}